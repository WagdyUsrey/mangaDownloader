{
  "nbformat": 4,
  "nbformat_minor": 0,
  "metadata": {
    "colab": {
      "name": "mangaDownloader.ipynb",
      "provenance": [],
      "collapsed_sections": [
        "z3gzdze76J8O"
      ],
      "authorship_tag": "ABX9TyOo7RJh8I79jQ9q6IQEj92y",
      "include_colab_link": true
    },
    "kernelspec": {
      "name": "python3",
      "display_name": "Python 3"
    }
  },
  "cells": [
    {
      "cell_type": "markdown",
      "metadata": {
        "id": "view-in-github",
        "colab_type": "text"
      },
      "source": [
        "<a href=\"https://colab.research.google.com/github/WagdyUsrey/mangaDownloader/blob/main/mangaDownloader.ipynb\" target=\"_parent\"><img src=\"https://colab.research.google.com/assets/colab-badge.svg\" alt=\"Open In Colab\"/></a>"
      ]
    },
    {
      "cell_type": "markdown",
      "metadata": {
        "id": "Blss-CYA5c8x"
      },
      "source": [
        "# Manga Downloader"
      ]
    },
    {
      "cell_type": "code",
      "metadata": {
        "id": "sGop00pOslWV",
        "colab": {
          "base_uri": "https://localhost:8080/"
        },
        "outputId": "1a296011-f74b-4973-cd46-3fc5e0444293"
      },
      "source": [
        "from bs4 import BeautifulSoup\n",
        "import os\n",
        "import requests\n",
        "from tqdm import tqdm\n",
        "from google.colab import drive\n",
        "drive.mount('/content/drive')"
      ],
      "execution_count": 2,
      "outputs": [
        {
          "output_type": "stream",
          "name": "stdout",
          "text": [
            "Mounted at /content/drive\n"
          ]
        }
      ]
    },
    {
      "cell_type": "code",
      "metadata": {
        "id": "RbB1LV8g4vyq"
      },
      "source": [
        "def NumExtension(n,length=3):\n",
        "  if n > ((10**length)-1):\n",
        "    return str(n)\n",
        "  return '0'*(length - len(str(n))) + str(n)"
      ],
      "execution_count": 3,
      "outputs": []
    },
    {
      "cell_type": "code",
      "metadata": {
        "id": "gFk0YP_Yf4FH",
        "colab": {
          "base_uri": "https://localhost:8080/"
        },
        "outputId": "dcddd51c-11a3-49b7-f45d-6101a24a0888"
      },
      "source": [
        "Mangas = [('https://ww7.readsnk.com/chapter/shingeki-no-kyojin-chapter-{ch}/','AOT','my-3 mx-auto js-page'),\n",
        "          ('https://ww3.readdrstone.com/chapter/dr-stone-chapter-{ch}/','Dr.Stone','mb-3 mx-auto js-page'),\n",
        "          ('https://ww2.readhxh.com/chapter/hunter-x-hunter-chapter-{ch}/','hunter-x-hunter','mb-3 mx-auto js-page'),\n",
        "          ('https://ww5.demonslayermanga.com/chapter/demon-slayer-kimetsu-no-yaiba-chapter-{ch}/','demon-slayer','mb-3 mx-auto js-page'),\n",
        "          ('https://ww7.readnaruto.com/chapter/naruto-chapter-{ch}/','naruto','mb-3 mx-auto js-page'),\n",
        " ]\n",
        "\n",
        "MangaLink, MangaName, ImgClass = Mangas[3]\n",
        "print(MangaLink.format(ch=1), MangaName, ImgClass)"
      ],
      "execution_count": 4,
      "outputs": [
        {
          "output_type": "stream",
          "name": "stdout",
          "text": [
            "https://ww5.demonslayermanga.com/chapter/demon-slayer-kimetsu-no-yaiba-chapter-1/ demon-slayer mb-3 mx-auto js-page\n"
          ]
        }
      ]
    },
    {
      "cell_type": "code",
      "metadata": {
        "id": "l_BV_p1LtSjH",
        "colab": {
          "base_uri": "https://localhost:8080/"
        },
        "outputId": "d53f9925-ca84-451d-8a71-dfef1cac4e71"
      },
      "source": [
        "if not os.path.exists(os.path.join('/', 'content', 'drive', 'My Drive',\"MangaName\")):\n",
        "  os.mkdir(os.path.join('/', 'content', 'drive', 'My Drive',\"MangaName\"))\n",
        "for i in tqdm(range(101,201)):\n",
        "  CH = str(i)\n",
        "  CH_link = MangaLink.format(ch=CH)\n",
        "  page = BeautifulSoup(requests.get(CH_link).content,'html.parser')\n",
        "  # print(page)\n",
        "  tags = page.findAll('img',{'class':ImgClass})\n",
        "  imgs = [(x['src']).strip() for x in tags]\n",
        "  if len(imgs) != 0:\n",
        "    os.mkdir(os.path.join('/', 'content', 'drive', 'My Drive',MangaName,'CH-'+ CH))\n",
        "  imgNumber = 1\n",
        "  for img in imgs:\n",
        "    imgName = (MangaName + '-CH{ch}-{img}.').format(ch=CH,img =NumExtension(imgNumber))+img.split('.')[-1]\n",
        "    f = open(os.path.join('/', 'content', 'drive', 'My Drive',MangaName,'CH-'+ CH,imgName),'wb')\n",
        "    f.write(requests.get(img).content)\n",
        "    f.close()\n",
        "    imgNumber +=1"
      ],
      "execution_count": 16,
      "outputs": [
        {
          "output_type": "stream",
          "name": "stdout",
          "text": [
            "XX\n"
          ]
        }
      ]
    },
    {
      "cell_type": "markdown",
      "metadata": {
        "id": "z3gzdze76J8O"
      },
      "source": [
        "#Drafts"
      ]
    },
    {
      "cell_type": "code",
      "metadata": {
        "id": "35qLbHgxEdOp"
      },
      "source": [
        "from datetime import datetime  \n",
        "from datetime import timedelta "
      ],
      "execution_count": null,
      "outputs": []
    },
    {
      "cell_type": "code",
      "metadata": {
        "id": "hCbj2D3JSbCQ"
      },
      "source": [
        "x = datetime(2020, 12, 22)\n",
        "while x< datetime(2022, 1, 1):\n",
        "  print(x.strftime(\"%d %b %Y\"), end='')\n",
        "  print(' --- ', end='')\n",
        "  print((x + timedelta(days=7)).strftime(\"%d %b %Y\"))\n",
        "  x += timedelta(days=21)"
      ],
      "execution_count": null,
      "outputs": []
    },
    {
      "cell_type": "code",
      "metadata": {
        "id": "Mf5NZiy32wc-",
        "colab": {
          "base_uri": "https://localhost:8080/"
        },
        "outputId": "1afdcbe9-d12b-4c4d-81f8-c72d58df7dac"
      },
      "source": [
        "# print([numEXtention(x,3) for x in [*range(1,111)]])\n",
        "print([x for x in [*range(1,111)]])\n"
      ],
      "execution_count": null,
      "outputs": [
        {
          "output_type": "stream",
          "text": [
            "[1, 2, 3, 4, 5, 6, 7, 8, 9, 10, 11, 12, 13, 14, 15, 16, 17, 18, 19, 20, 21, 22, 23, 24, 25, 26, 27, 28, 29, 30, 31, 32, 33, 34, 35, 36, 37, 38, 39, 40, 41, 42, 43, 44, 45, 46, 47, 48, 49, 50, 51, 52, 53, 54, 55, 56, 57, 58, 59, 60, 61, 62, 63, 64, 65, 66, 67, 68, 69, 70, 71, 72, 73, 74, 75, 76, 77, 78, 79, 80, 81, 82, 83, 84, 85, 86, 87, 88, 89, 90, 91, 92, 93, 94, 95, 96, 97, 98, 99, 100, 101, 102, 103, 104, 105, 106, 107, 108, 109, 110]\n"
          ],
          "name": "stdout"
        }
      ]
    },
    {
      "cell_type": "code",
      "metadata": {
        "id": "X7Czn1hpPYfr"
      },
      "source": [
        ""
      ],
      "execution_count": null,
      "outputs": []
    }
  ]
}